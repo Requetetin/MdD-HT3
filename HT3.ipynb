{
 "cells": [
  {
   "cell_type": "markdown",
   "metadata": {},
   "source": [
    "Martín Amado - 19020\n",
    "Juan Pablo Pineda - 19087\n",
    "Laura Tamath - 19365\n",
    "\n",
    "referencia para análisis de datos: https://www.kaggle.com/pmarcelino/comprehensive-data-exploration-with-python#4.-Missing-data"
   ]
  },
  {
   "cell_type": "code",
   "execution_count": 54,
   "metadata": {},
   "outputs": [],
   "source": [
    "import pandas as pd\n",
    "import matplotlib.pyplot as plt\n",
    "import seaborn as sns\n",
    "import numpy as np\n",
    "from scipy.stats import norm\n",
    "from sklearn.preprocessing import StandardScaler\n",
    "from scipy import stats\n",
    "import statsmodels.stats.diagnostic as diag\n",
    "import sklearn.cluster as cluster\n",
    "from sklearn.metrics import silhouette_samples, silhouette_score, confusion_matrix, r2_score\n",
    "from sklearn.model_selection import train_test_split\n",
    "from sklearn.tree import DecisionTreeClassifier, DecisionTreeRegressor\n",
    "from sklearn import tree\n",
    "from sklearn import metrics\n",
    "from sklearn import datasets\n",
    "from sklearn.model_selection import cross_val_predict\n",
    "import sklearn.preprocessing\n",
    "import random\n",
    "import graphviz\n",
    "## import pyclustertend \n",
    "from sklearn.cluster import Birch\n",
    "import matplotlib.cm as cm\n",
    "np.warnings.filterwarnings('ignore', category=np.VisibleDeprecationWarning) "
   ]
  },
  {
   "cell_type": "markdown",
   "metadata": {},
   "source": [
    "## Análisis  exploratorio\n",
    "Explicación de hallazgos y conclusiones -Laura"
   ]
  },
  {
   "cell_type": "code",
   "execution_count": 31,
   "metadata": {},
   "outputs": [],
   "source": [
    "data = pd.read_csv('./train.csv', encoding = 'latin1')\n",
    "file = open('cuantitativas.txt', 'r')\n",
    "quant= file.read().splitlines()\n",
    "file = open('cualitativas.txt', 'r')\n",
    "quali= file.read().splitlines()"
   ]
  },
  {
   "cell_type": "code",
   "execution_count": null,
   "metadata": {},
   "outputs": [],
   "source": [
    "#Variables cuantitativas\n",
    "data[quant].describe()"
   ]
  },
  {
   "cell_type": "code",
   "execution_count": null,
   "metadata": {},
   "outputs": [],
   "source": [
    "for var in quant:\n",
    "    localData = data[var].dropna(how='all', axis=0)\n",
    "  \n",
    "    sns.displot(localData, kde=True)\n",
    "\n",
    "    print( var, ':', ' Kurtosis:', stats.kurtosis(localData), 'Asimetría:', stats.skew(localData), '\\n')"
   ]
  },
  {
   "cell_type": "code",
   "execution_count": null,
   "metadata": {},
   "outputs": [],
   "source": [
    "#Variables cualitativas\n",
    "for var in quali:\n",
    "  data[var].value_counts().plot(kind='barh')\n",
    "  plt.figure(figsize=(20,5))\n",
    "  print(var)\n",
    "  plt.show()"
   ]
  },
  {
   "cell_type": "code",
   "execution_count": null,
   "metadata": {},
   "outputs": [],
   "source": [
    "# Variables de interes\n",
    "print('\\033[36m' + 'Kurtosis: %f' % data['SalePrice'].kurt())\n",
    "print('\\033[36m' + 'Asimetría: %f' % data['SalePrice'].skew())\n",
    "data['SalePrice'].describe()"
   ]
  },
  {
   "cell_type": "code",
   "execution_count": null,
   "metadata": {},
   "outputs": [],
   "source": [
    "stat,p = stats.shapiro(data[['SalePrice']].dropna())\n",
    "print('Prueba de Kolmogorov-Smirnov:\\np=%f\\n'% p)\n",
    "ks_statistic, p_value = diag.lilliefors(data[['SalePrice']].dropna())\n",
    "print('Prueba de Lilliefors:\\nks=%f\\np=%f'%(ks_statistic,p_value))"
   ]
  },
  {
   "cell_type": "code",
   "execution_count": null,
   "metadata": {},
   "outputs": [],
   "source": [
    "sns.displot(data['SalePrice'], kde=True)"
   ]
  },
  {
   "cell_type": "code",
   "execution_count": null,
   "metadata": {},
   "outputs": [],
   "source": [
    "sns.boxplot(x=data[\"SalePrice\"])"
   ]
  },
  {
   "cell_type": "code",
   "execution_count": null,
   "metadata": {},
   "outputs": [],
   "source": [
    "k = 11\n",
    "corrmat = data.corr()\n",
    "columns = corrmat.nlargest(k, 'SalePrice')['SalePrice'].index\n",
    "cm = np.corrcoef(data[columns].values.T)\n",
    "sns.set(font_scale=1.25)\n",
    "hm = sns.heatmap(cm, cbar=True, annot=True, square=True, fmt='.2f', annot_kws={'size': 10}, yticklabels=columns.values, xticklabels=columns.values)\n",
    "plt.show()"
   ]
  },
  {
   "cell_type": "code",
   "execution_count": null,
   "metadata": {},
   "outputs": [],
   "source": [
    "sns.set()\n",
    "columns = ['SalePrice', 'OverallQual', 'GrLivArea', 'GarageCars', 'TotalBsmtSF', 'FullBath', 'YearBuilt']\n",
    "sns.pairplot(data[columns], height= 3)\n",
    "plt.show()"
   ]
  },
  {
   "cell_type": "markdown",
   "metadata": {},
   "source": [
    "### Análisis\n",
    "Algo muy importante que se pudo notar, es que las variables toman en cuenta los cuartos sobre la tierra, no los que están en un nivel inferior, esto da paso a que se deduzca que la cantidad de los sótanos no son tan relecantes a comparación de los cuartos sobre la tierra. También es imporante mencionar que son pocas las variables que utilizan un valor numérico que puede convertirse a una cantidad monetaria. Sin embargo, la mayoría de las variables no se pueden clasificar como \"mejor\" o \"peor\" por ende, esto únicamente lo puede determinar la persona que quiere comprar un hogar. Y aunque es claro que existen variables que clasifican las paredes, la cimentación, los techos, entre otros; son estas a las que realemente hay que ponerles atención, ya que se pueden tomar en cuenta para estimar un valor a la propiedad. \n",
    "Las variables que más importancia tienen son las que nos indica si tiene características extras (con \"extras\" me refiero a las que no son indispensables para un hogar) como por ejemplo: garage extra, jardín, piscina, cancha, elevador, entre otros... ya que estas características pueden aumentar el precio de la vivienda de manera significativa. Pero esto no quiere decir que esta varible sea la única importante, ya que también hay que tomar en cuenta la calidad del hogar, la ubicación, el tipo de terreno, entre otras.\n"
   ]
  },
  {
   "cell_type": "markdown",
   "metadata": {},
   "source": [
    "## Análisis de grupos\n",
    "Explicación de las características - Laura"
   ]
  },
  {
   "cell_type": "code",
   "execution_count": 56,
   "metadata": {},
   "outputs": [
    {
     "ename": "KeyError",
     "evalue": "\"['SalePrice'] not in index\"",
     "output_type": "error",
     "traceback": [
      "\u001b[1;31m---------------------------------------------------------------------------\u001b[0m",
      "\u001b[1;31mKeyError\u001b[0m                                  Traceback (most recent call last)",
      "\u001b[1;32mc:\\Users\\laury\\Documents\\UVG\\minería\\MdD-HT3\\HT3.ipynb Cell 16'\u001b[0m in \u001b[0;36m<module>\u001b[1;34m\u001b[0m\n\u001b[0;32m     <a href='vscode-notebook-cell:/c%3A/Users/laury/Documents/UVG/miner%C3%ADa/MdD-HT3/HT3.ipynb#ch0000014?line=14'>15</a>\u001b[0m \u001b[39m# Cuantitativa\u001b[39;00m\n\u001b[0;32m     <a href='vscode-notebook-cell:/c%3A/Users/laury/Documents/UVG/miner%C3%ADa/MdD-HT3/HT3.ipynb#ch0000014?line=15'>16</a>\u001b[0m columnsToUse \u001b[39m=\u001b[39m [\u001b[39m\"\u001b[39m\u001b[39mSalePrice\u001b[39m\u001b[39m\"\u001b[39m, \u001b[39m\"\u001b[39m\u001b[39mGarageCars\u001b[39m\u001b[39m\"\u001b[39m, \u001b[39m\"\u001b[39m\u001b[39mFullBath\u001b[39m\u001b[39m\"\u001b[39m, \u001b[39m\"\u001b[39m\u001b[39mTotalBsmtSF\u001b[39m\u001b[39m\"\u001b[39m, \u001b[39m\"\u001b[39m\u001b[39mGrLivArea\u001b[39m\u001b[39m\"\u001b[39m]\n\u001b[1;32m---> <a href='vscode-notebook-cell:/c%3A/Users/laury/Documents/UVG/miner%C3%ADa/MdD-HT3/HT3.ipynb#ch0000014?line=16'>17</a>\u001b[0m d_cluster \u001b[39m=\u001b[39m data[quant]\u001b[39m.\u001b[39;49mfillna(\u001b[39m0\u001b[39;49m)[columnsToUse]\n\u001b[0;32m     <a href='vscode-notebook-cell:/c%3A/Users/laury/Documents/UVG/miner%C3%ADa/MdD-HT3/HT3.ipynb#ch0000014?line=17'>18</a>\u001b[0m X_scale \u001b[39m=\u001b[39m sklearn\u001b[39m.\u001b[39mpreprocessing\u001b[39m.\u001b[39mscale(d_cluster)\n",
      "File \u001b[1;32m~\\AppData\\Local\\Packages\\PythonSoftwareFoundation.Python.3.9_qbz5n2kfra8p0\\LocalCache\\local-packages\\Python39\\site-packages\\pandas\\core\\frame.py:3512\u001b[0m, in \u001b[0;36mDataFrame.__getitem__\u001b[1;34m(self, key)\u001b[0m\n\u001b[0;32m   <a href='file:///c%3A/Users/laury/AppData/Local/Packages/PythonSoftwareFoundation.Python.3.9_qbz5n2kfra8p0/LocalCache/local-packages/Python39/site-packages/pandas/core/frame.py?line=3509'>3510</a>\u001b[0m     \u001b[39mif\u001b[39;00m is_iterator(key):\n\u001b[0;32m   <a href='file:///c%3A/Users/laury/AppData/Local/Packages/PythonSoftwareFoundation.Python.3.9_qbz5n2kfra8p0/LocalCache/local-packages/Python39/site-packages/pandas/core/frame.py?line=3510'>3511</a>\u001b[0m         key \u001b[39m=\u001b[39m \u001b[39mlist\u001b[39m(key)\n\u001b[1;32m-> <a href='file:///c%3A/Users/laury/AppData/Local/Packages/PythonSoftwareFoundation.Python.3.9_qbz5n2kfra8p0/LocalCache/local-packages/Python39/site-packages/pandas/core/frame.py?line=3511'>3512</a>\u001b[0m     indexer \u001b[39m=\u001b[39m \u001b[39mself\u001b[39;49m\u001b[39m.\u001b[39;49mcolumns\u001b[39m.\u001b[39;49m_get_indexer_strict(key, \u001b[39m\"\u001b[39;49m\u001b[39mcolumns\u001b[39;49m\u001b[39m\"\u001b[39;49m)[\u001b[39m1\u001b[39m]\n\u001b[0;32m   <a href='file:///c%3A/Users/laury/AppData/Local/Packages/PythonSoftwareFoundation.Python.3.9_qbz5n2kfra8p0/LocalCache/local-packages/Python39/site-packages/pandas/core/frame.py?line=3513'>3514</a>\u001b[0m \u001b[39m# take() does not accept boolean indexers\u001b[39;00m\n\u001b[0;32m   <a href='file:///c%3A/Users/laury/AppData/Local/Packages/PythonSoftwareFoundation.Python.3.9_qbz5n2kfra8p0/LocalCache/local-packages/Python39/site-packages/pandas/core/frame.py?line=3514'>3515</a>\u001b[0m \u001b[39mif\u001b[39;00m \u001b[39mgetattr\u001b[39m(indexer, \u001b[39m\"\u001b[39m\u001b[39mdtype\u001b[39m\u001b[39m\"\u001b[39m, \u001b[39mNone\u001b[39;00m) \u001b[39m==\u001b[39m \u001b[39mbool\u001b[39m:\n",
      "File \u001b[1;32m~\\AppData\\Local\\Packages\\PythonSoftwareFoundation.Python.3.9_qbz5n2kfra8p0\\LocalCache\\local-packages\\Python39\\site-packages\\pandas\\core\\indexes\\base.py:5782\u001b[0m, in \u001b[0;36mIndex._get_indexer_strict\u001b[1;34m(self, key, axis_name)\u001b[0m\n\u001b[0;32m   <a href='file:///c%3A/Users/laury/AppData/Local/Packages/PythonSoftwareFoundation.Python.3.9_qbz5n2kfra8p0/LocalCache/local-packages/Python39/site-packages/pandas/core/indexes/base.py?line=5778'>5779</a>\u001b[0m \u001b[39melse\u001b[39;00m:\n\u001b[0;32m   <a href='file:///c%3A/Users/laury/AppData/Local/Packages/PythonSoftwareFoundation.Python.3.9_qbz5n2kfra8p0/LocalCache/local-packages/Python39/site-packages/pandas/core/indexes/base.py?line=5779'>5780</a>\u001b[0m     keyarr, indexer, new_indexer \u001b[39m=\u001b[39m \u001b[39mself\u001b[39m\u001b[39m.\u001b[39m_reindex_non_unique(keyarr)\n\u001b[1;32m-> <a href='file:///c%3A/Users/laury/AppData/Local/Packages/PythonSoftwareFoundation.Python.3.9_qbz5n2kfra8p0/LocalCache/local-packages/Python39/site-packages/pandas/core/indexes/base.py?line=5781'>5782</a>\u001b[0m \u001b[39mself\u001b[39;49m\u001b[39m.\u001b[39;49m_raise_if_missing(keyarr, indexer, axis_name)\n\u001b[0;32m   <a href='file:///c%3A/Users/laury/AppData/Local/Packages/PythonSoftwareFoundation.Python.3.9_qbz5n2kfra8p0/LocalCache/local-packages/Python39/site-packages/pandas/core/indexes/base.py?line=5783'>5784</a>\u001b[0m keyarr \u001b[39m=\u001b[39m \u001b[39mself\u001b[39m\u001b[39m.\u001b[39mtake(indexer)\n\u001b[0;32m   <a href='file:///c%3A/Users/laury/AppData/Local/Packages/PythonSoftwareFoundation.Python.3.9_qbz5n2kfra8p0/LocalCache/local-packages/Python39/site-packages/pandas/core/indexes/base.py?line=5784'>5785</a>\u001b[0m \u001b[39mif\u001b[39;00m \u001b[39misinstance\u001b[39m(key, Index):\n\u001b[0;32m   <a href='file:///c%3A/Users/laury/AppData/Local/Packages/PythonSoftwareFoundation.Python.3.9_qbz5n2kfra8p0/LocalCache/local-packages/Python39/site-packages/pandas/core/indexes/base.py?line=5785'>5786</a>\u001b[0m     \u001b[39m# GH 42790 - Preserve name from an Index\u001b[39;00m\n",
      "File \u001b[1;32m~\\AppData\\Local\\Packages\\PythonSoftwareFoundation.Python.3.9_qbz5n2kfra8p0\\LocalCache\\local-packages\\Python39\\site-packages\\pandas\\core\\indexes\\base.py:5845\u001b[0m, in \u001b[0;36mIndex._raise_if_missing\u001b[1;34m(self, key, indexer, axis_name)\u001b[0m\n\u001b[0;32m   <a href='file:///c%3A/Users/laury/AppData/Local/Packages/PythonSoftwareFoundation.Python.3.9_qbz5n2kfra8p0/LocalCache/local-packages/Python39/site-packages/pandas/core/indexes/base.py?line=5841'>5842</a>\u001b[0m     \u001b[39mraise\u001b[39;00m \u001b[39mKeyError\u001b[39;00m(\u001b[39mf\u001b[39m\u001b[39m\"\u001b[39m\u001b[39mNone of [\u001b[39m\u001b[39m{\u001b[39;00mkey\u001b[39m}\u001b[39;00m\u001b[39m] are in the [\u001b[39m\u001b[39m{\u001b[39;00maxis_name\u001b[39m}\u001b[39;00m\u001b[39m]\u001b[39m\u001b[39m\"\u001b[39m)\n\u001b[0;32m   <a href='file:///c%3A/Users/laury/AppData/Local/Packages/PythonSoftwareFoundation.Python.3.9_qbz5n2kfra8p0/LocalCache/local-packages/Python39/site-packages/pandas/core/indexes/base.py?line=5843'>5844</a>\u001b[0m not_found \u001b[39m=\u001b[39m \u001b[39mlist\u001b[39m(ensure_index(key)[missing_mask\u001b[39m.\u001b[39mnonzero()[\u001b[39m0\u001b[39m]]\u001b[39m.\u001b[39munique())\n\u001b[1;32m-> <a href='file:///c%3A/Users/laury/AppData/Local/Packages/PythonSoftwareFoundation.Python.3.9_qbz5n2kfra8p0/LocalCache/local-packages/Python39/site-packages/pandas/core/indexes/base.py?line=5844'>5845</a>\u001b[0m \u001b[39mraise\u001b[39;00m \u001b[39mKeyError\u001b[39;00m(\u001b[39mf\u001b[39m\u001b[39m\"\u001b[39m\u001b[39m{\u001b[39;00mnot_found\u001b[39m}\u001b[39;00m\u001b[39m not in index\u001b[39m\u001b[39m\"\u001b[39m)\n",
      "\u001b[1;31mKeyError\u001b[0m: \"['SalePrice'] not in index\""
     ]
    }
   ],
   "source": [
    "#cualitativa\n",
    "groups = ['OverallQual', 'YearBuilt']\n",
    "_lista = list(np.array(data[[ groups[0]]]))\n",
    "group = list(data.groupby(by=groups[0]).groups.keys())\n",
    "tags = []\n",
    "number = {}\n",
    "tagNo = {}\n",
    "\n",
    "for i in range(len(group)): \n",
    "  number[group[i]] = i\n",
    "  tagNo[i] = group[i]\n",
    "\n",
    "for i in range(len(_lista)): tags.append(number[_lista[i][0]])\n",
    "\n",
    "# Cuantitativa\n",
    "columnsToUse = [\"SalePrice\", \"GarageCars\", \"FullBath\", \"TotalBsmtSF\", \"GrLivArea\"]\n",
    "d_cluster = data[quant].fillna(0)\n",
    "X_scale = sklearn.preprocessing.scale(d_cluster)"
   ]
  },
  {
   "cell_type": "markdown",
   "metadata": {},
   "source": [
    "## Variable respuesta\n",
    "permite clasificar las casas  en Económicas, Intermedias o Caras. -Pineda"
   ]
  },
  {
   "cell_type": "markdown",
   "metadata": {},
   "source": [
    "## Entrenamiento y prueba\n",
    "Descripción del criterio que se usó para crear los conjuntos: número de filas de cada uno, estratificado o no, balanceado o no, etc. -Pineda"
   ]
  },
  {
   "cell_type": "markdown",
   "metadata": {},
   "source": [
    "# Árbol de clasificación\n",
    "Muestre el modelo gráficamente. El experimento debe ser reproducible por lo que debe fijar que los conjuntos de entrenamiento y prueba sean los mismos siempre que se ejecute el código. - Martin"
   ]
  },
  {
   "cell_type": "code",
   "execution_count": 42,
   "metadata": {},
   "outputs": [
    {
     "data": {
      "text/plain": [
       "1195"
      ]
     },
     "execution_count": 42,
     "metadata": {},
     "output_type": "execute_result"
    }
   ],
   "source": [
    "temp = data[quant]\n",
    "temp = temp.dropna()\n",
    "y = temp.pop(\"SalePrice\")\n",
    "quant.remove(\"SalePrice\")\n",
    "x = temp[quant]\n",
    "\n",
    "random.seed(579)\n",
    "len(x)"
   ]
  },
  {
   "cell_type": "code",
   "execution_count": 43,
   "metadata": {},
   "outputs": [],
   "source": [
    "x_train, x_test, y_train, y_test = train_test_split(x, y, test_size=0.3, train_size=0.7)"
   ]
  },
  {
   "cell_type": "code",
   "execution_count": 44,
   "metadata": {},
   "outputs": [],
   "source": [
    "arbol = DecisionTreeClassifier(max_depth=4, random_state=42)\n",
    "arbol = arbol.fit(x_train, y_train)"
   ]
  },
  {
   "cell_type": "code",
   "execution_count": null,
   "metadata": {},
   "outputs": [],
   "source": [
    "tree.plot_tree(arbol, feature_names=data.columns, filled=True)"
   ]
  },
  {
   "cell_type": "code",
   "execution_count": 55,
   "metadata": {},
   "outputs": [
    {
     "name": "stdout",
     "output_type": "stream",
     "text": [
      "Accuracy: 0.011142061281337047\n",
      "Precision: 0.0004802612621265969\n",
      "Recall: 0.011142061281337047\n"
     ]
    },
    {
     "name": "stderr",
     "output_type": "stream",
     "text": [
      "C:\\Users\\laury\\AppData\\Local\\Packages\\PythonSoftwareFoundation.Python.3.9_qbz5n2kfra8p0\\LocalCache\\local-packages\\Python39\\site-packages\\sklearn\\metrics\\_classification.py:1318: UndefinedMetricWarning: Precision is ill-defined and being set to 0.0 in labels with no predicted samples. Use `zero_division` parameter to control this behavior.\n",
      "  _warn_prf(average, modifier, msg_start, len(result))\n",
      "C:\\Users\\laury\\AppData\\Local\\Packages\\PythonSoftwareFoundation.Python.3.9_qbz5n2kfra8p0\\LocalCache\\local-packages\\Python39\\site-packages\\sklearn\\metrics\\_classification.py:1318: UndefinedMetricWarning: Recall is ill-defined and being set to 0.0 in labels with no true samples. Use `zero_division` parameter to control this behavior.\n",
      "  _warn_prf(average, modifier, msg_start, len(result))\n"
     ]
    }
   ],
   "source": [
    "y_pred = arbol.predict(x_test)\n",
    "print(\"Accuracy:\", metrics.accuracy_score(y_test, y_pred))\n",
    "print(\"Precision:\", metrics.precision_score(y_test, y_pred, average='weighted'))\n",
    "print(\"Recall:\", metrics.recall_score(y_test, y_pred, average='weighted'))"
   ]
  },
  {
   "cell_type": "markdown",
   "metadata": {},
   "source": [
    "## Árbol de regresión\n",
    "para predecir el precio de las viviendas utilizando el conjunto \n",
    "de entrenamiento. Muestre el modelo gráficamente. \n",
    "El experimento debe ser reproducible por lo que debe fijar que los conjuntos de entrenamiento y prueba sean los mismos siempre que se ejecute el código. -Laura"
   ]
  },
  {
   "cell_type": "code",
   "execution_count": 47,
   "metadata": {},
   "outputs": [],
   "source": [
    "regressionTree = DecisionTreeRegressor(max_depth=4, random_state=42) \n",
    "regressionTree = regressionTree.fit(x_train, y_train) "
   ]
  },
  {
   "cell_type": "code",
   "execution_count": 48,
   "metadata": {},
   "outputs": [
    {
     "data": {
      "text/plain": [
       "[Text(0.5, 0.9, 'YearBuilt <= 2.5\\nsquared_error = 6821301052.994\\nsamples = 836\\nvalue = 181073.514'),\n",
       " Text(0.25, 0.7, 'LotConfig <= 1413.0\\nsquared_error = 2961449844.66\\nsamples = 711\\nvalue = 159390.975'),\n",
       " Text(0.125, 0.5, 'Alley <= 1050.5\\nsquared_error = 1185066146.488\\nsamples = 381\\nvalue = 130651.701'),\n",
       " Text(0.0625, 0.3, 'YearRemodAdd <= 225.0\\nsquared_error = 718230957.245\\nsamples = 259\\nvalue = 116569.371'),\n",
       " Text(0.03125, 0.1, 'squared_error = 633130435.123\\nsamples = 46\\nvalue = 91347.913'),\n",
       " Text(0.09375, 0.1, 'squared_error = 569562445.966\\nsamples = 213\\nvalue = 122016.258'),\n",
       " Text(0.1875, 0.3, 'Condition1 <= 1.5\\nsquared_error = 861351170.589\\nsamples = 122\\nvalue = 160547.795'),\n",
       " Text(0.15625, 0.1, 'squared_error = 668244417.291\\nsamples = 73\\nvalue = 147987.521'),\n",
       " Text(0.21875, 0.1, 'squared_error = 563861739.468\\nsamples = 49\\nvalue = 179260.041'),\n",
       " Text(0.375, 0.5, 'YearRemodAdd <= 480.5\\nsquared_error = 2957808167.024\\nsamples = 330\\nvalue = 192571.773'),\n",
       " Text(0.3125, 0.3, 'OverallCond <= 0.5\\nsquared_error = 1932569576.977\\nsamples = 159\\nvalue = 168242.453'),\n",
       " Text(0.28125, 0.1, 'squared_error = 867755193.468\\nsamples = 64\\nvalue = 142397.969'),\n",
       " Text(0.34375, 0.1, 'squared_error = 1896795715.828\\nsamples = 95\\nvalue = 185653.474'),\n",
       " Text(0.4375, 0.3, 'HouseStyle <= 1.5\\nsquared_error = 2848967486.118\\nsamples = 171\\nvalue = 215193.772'),\n",
       " Text(0.40625, 0.1, 'squared_error = 2539344122.635\\nsamples = 157\\nvalue = 221734.28'),\n",
       " Text(0.46875, 0.1, 'squared_error = 461643496.515\\nsamples = 14\\nvalue = 141846.643'),\n",
       " Text(0.75, 0.7, 'LotConfig <= 1970.5\\nsquared_error = 10891661557.392\\nsamples = 125\\nvalue = 304403.8'),\n",
       " Text(0.625, 0.5, 'Alley <= 1691.5\\nsquared_error = 5440513621.987\\nsamples = 67\\nvalue = 253175.657'),\n",
       " Text(0.5625, 0.3, 'Condition1 <= 1.5\\nsquared_error = 3154230638.119\\nsamples = 46\\nvalue = 219397.522'),\n",
       " Text(0.53125, 0.1, 'squared_error = 513250000.0\\nsamples = 4\\nvalue = 110500.0'),\n",
       " Text(0.59375, 0.1, 'squared_error = 2168793803.014\\nsamples = 42\\nvalue = 229768.714'),\n",
       " Text(0.6875, 0.3, 'HouseStyle <= 1.5\\nsquared_error = 2474761326.694\\nsamples = 21\\nvalue = 327165.857'),\n",
       " Text(0.65625, 0.1, 'squared_error = 1318141208.827\\nsamples = 20\\nvalue = 334974.15'),\n",
       " Text(0.71875, 0.1, 'squared_error = 0.0\\nsamples = 1\\nvalue = 171000.0'),\n",
       " Text(0.875, 0.5, 'LotShape <= 1424.0\\nsquared_error = 10655174804.602\\nsamples = 58\\nvalue = 363581.138'),\n",
       " Text(0.8125, 0.3, 'RoofMatl <= 152.5\\nsquared_error = 1550199852.698\\nsamples = 25\\nvalue = 302735.68'),\n",
       " Text(0.78125, 0.1, 'squared_error = 1270191698.862\\nsamples = 22\\nvalue = 295489.955'),\n",
       " Text(0.84375, 0.1, 'squared_error = 395226808.667\\nsamples = 3\\nvalue = 355871.0'),\n",
       " Text(0.9375, 0.3, 'Neighborhood <= 0.5\\nsquared_error = 12623455976.876\\nsamples = 33\\nvalue = 409676.182'),\n",
       " Text(0.90625, 0.1, 'squared_error = 9174968468.027\\nsamples = 32\\nvalue = 398884.812'),\n",
       " Text(0.96875, 0.1, 'squared_error = 0.0\\nsamples = 1\\nvalue = 755000.0')]"
      ]
     },
     "execution_count": 48,
     "metadata": {},
     "output_type": "execute_result"
    },
    {
     "data": {
      "image/png": "[encoded data removed]",
      "text/plain": [
       "<Figure size 432x288 with 1 Axes>"
      ]
     },
     "metadata": {},
     "output_type": "display_data"
    }
   ],
   "source": [
    "tree.plot_tree(regressionTree, feature_names=data.columns, filled=True)"
   ]
  },
  {
   "cell_type": "markdown",
   "metadata": {},
   "source": [
    "### Análisis\n"
   ]
  },
  {
   "cell_type": "markdown",
   "metadata": {},
   "source": [
    "## Determinar la eficiencia del algoritmo\n",
    "para clasificar y predecir, en dependencia de las características de la variable respuesta.  -Martin"
   ]
  },
  {
   "cell_type": "markdown",
   "metadata": {},
   "source": [
    "## Ánalisis de eficiencia\n",
    "Usando una matriz de confusión para el árbol de clasificación. -Martin"
   ]
  },
  {
   "cell_type": "markdown",
   "metadata": {},
   "source": [
    "## Análisis del desempeño del árbol de regresión \n",
    "-pineda"
   ]
  },
  {
   "cell_type": "markdown",
   "metadata": {},
   "source": [
    "## Utilice random  forest\n",
    "Explique  sus resultados comparando ambos algoritmos.  -Martin"
   ]
  },
  {
   "cell_type": "markdown",
   "metadata": {},
   "source": []
  }
 ],
 "metadata": {
  "kernelspec": {
   "display_name": "Python 3.9.10 64-bit",
   "metadata": {
    "interpreter": {
     "hash": "1b1e0c645787a43952d50d550edd6247296232eaf059a1af998729e9d11faa38"
    }
   },
   "name": "python3"
  },
  "language_info": {
   "codemirror_mode": {
    "name": "ipython",
    "version": 3
   },
   "file_extension": ".py",
   "mimetype": "text/x-python",
   "name": "python",
   "nbconvert_exporter": "python",
   "pygments_lexer": "ipython3",
   "version": "3.9.10"
  },
  "orig_nbformat": 2
 },
 "nbformat": 4,
 "nbformat_minor": 2
}
